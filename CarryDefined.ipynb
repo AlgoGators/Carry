{
 "cells": [
  {
   "cell_type": "markdown",
   "id": "2eebfe09-e2e7-4731-adea-59631d136bdb",
   "metadata": {
    "tags": []
   },
   "source": [
    "# Convergent Strategy Exploration with defined Strategies"
   ]
  },
  {
   "cell_type": "code",
   "execution_count": 28,
   "id": "eb06273c-8667-45f4-9515-64cd15e61530",
   "metadata": {
    "tags": []
   },
   "outputs": [],
   "source": [
    "# Imports Chapter 1-10\n",
    "from chapter1 import pd_readcsv, BUSINESS_DAYS_IN_YEAR, calculate_stats\n",
    "from chapter3 import standardDeviation\n",
    "from chapter4 import (\n",
    "    create_fx_series_given_adjusted_prices_dict,\n",
    "    calculate_variable_standard_deviation_for_risk_targeting_from_dict,\n",
    "    calculate_position_series_given_variable_risk_for_dict,\n",
    ")\n",
    "\n",
    "from chapter5 import calculate_perc_returns_for_dict_with_costs\n",
    "from chapter8 import apply_buffering_to_position_dict\n",
    "\n",
    "import pandas as pd\n",
    "import numpy as np\n",
    "import matplotlib\n",
    "import matplotlib.pyplot as plt"
   ]
  },
  {
   "cell_type": "markdown",
   "id": "0148fc35-82d3-4874-8d85-a95f9e4b5821",
   "metadata": {},
   "source": [
    "## Strategy 10: Carry "
   ]
  },
  {
   "cell_type": "markdown",
   "id": "04bcd209-a757-45ba-8690-1e3c6ccad590",
   "metadata": {
    "tags": []
   },
   "source": [
    "##### We can create a strategy that uses multiple carry spans to determine our carry forecasts. We then use a capping method to the raw forecast of the trend signal combined with capital and risk management to determine our average position size."
   ]
  },
  {
   "cell_type": "markdown",
   "id": "fb16b008-befd-4994-8d26-9538b29905dd",
   "metadata": {},
   "source": [
    "### Instrument Selection"
   ]
  },
  {
   "cell_type": "markdown",
   "id": "0a7d971c-7358-4fbf-8c27-e5e169a1e635",
   "metadata": {
    "tags": []
   },
   "source": [
    "<ol>\n",
    "<li>SP500</li>\n",
    "<li>GAS</li>\n",
    "</ol>"
   ]
  },
  {
   "cell_type": "markdown",
   "id": "c12f9961-2b60-42dc-a01f-1c62addae633",
   "metadata": {
    "tags": []
   },
   "source": [
    "### Spans of Trends\n",
    "##### The spans Carver outlines in his book are 5, 20, 60, and 120. We will use this to start."
   ]
  },
  {
   "cell_type": "markdown",
   "id": "94f8a4ca-07c1-45d8-b99f-1a95836a0047",
   "metadata": {
    "tags": []
   },
   "source": [
    "### Defining Strategy Relevant Functions\n",
    "##### All functions relevant to the strategy are below"
   ]
  },
  {
   "cell_type": "code",
   "execution_count": 21,
   "id": "0d175053-1e1b-41de-93b1-8b2a5f989f99",
   "metadata": {
    "tags": []
   },
   "outputs": [],
   "source": [
    "INSTRUMENT_LIST = [\"sp500\", \"gas\"]"
   ]
  },
  {
   "cell_type": "code",
   "execution_count": 22,
   "id": "c8be2efc-bd61-4ab6-9e14-f14a750025ab",
   "metadata": {
    "tags": []
   },
   "outputs": [],
   "source": [
    "def get_data_dict_with_carry(instrument_list: list = None):\n",
    "    \n",
    "    if instrument_list is None:\n",
    "        instrument_list = INSTRUMENT_LIST\n",
    "\n",
    "    all_data = dict(\n",
    "        [\n",
    "            (instrument_code, pd_readcsv(\"%s.csv\" % instrument_code))\n",
    "            for instrument_code in instrument_list\n",
    "        ]\n",
    "    )\n",
    "\n",
    "    adjusted_prices = dict(\n",
    "        [\n",
    "            (instrument_code, data_for_instrument.adjusted)\n",
    "            for instrument_code, data_for_instrument in all_data.items()\n",
    "        ]\n",
    "    )\n",
    "\n",
    "    current_prices = dict(\n",
    "        [\n",
    "            (instrument_code, data_for_instrument.underlying)\n",
    "            for instrument_code, data_for_instrument in all_data.items()\n",
    "        ]\n",
    "    )\n",
    "\n",
    "    carry_data = dict(\n",
    "        [\n",
    "            (instrument_code, pd_readcsv(\"%s_carry.csv\" % instrument_code))\n",
    "            for instrument_code in instrument_list\n",
    "        ]\n",
    "    )\n",
    "\n",
    "\n",
    "    return adjusted_prices, current_prices, carry_data"
   ]
  },
  {
   "cell_type": "code",
   "execution_count": 23,
   "id": "51a86f19-3c48-4edc-821f-f4e5962ccbe7",
   "metadata": {
    "tags": []
   },
   "outputs": [],
   "source": [
    "# Takes in adjusted prices dictionary, a dictionary containing standard deviations, a dictionary contiaing average\n",
    "# position in contracts, carry prices, and a list of carry spans\n",
    "# Main function is to calcluate position data for each instrument and the results are stored in a dict\n",
    "def calculate_position_dict_with_multiple_carry_forecast_applied(\n",
    "    adjusted_prices_dict: dict,\n",
    "    std_dev_dict: dict,\n",
    "    average_position_contracts_dict: dict,\n",
    "    carry_prices_dict: dict,\n",
    "    carry_spans: list,\n",
    ") -> dict:\n",
    "\n",
    "    list_of_instruments = list(adjusted_prices_dict.keys())\n",
    "    position_dict_with_carry = dict(\n",
    "        [\n",
    "            (\n",
    "                instrument_code,\n",
    "                calculate_position_with_multiple_carry_forecast_applied(\n",
    "                    average_position=average_position_contracts_dict[instrument_code],\n",
    "                    stdev_ann_perc=std_dev_dict[instrument_code],\n",
    "                    carry_price=carry_prices_dict[instrument_code],\n",
    "                    carry_spans=carry_spans,\n",
    "                ),\n",
    "            )\n",
    "            for instrument_code in list_of_instruments\n",
    "        ]\n",
    "    )\n",
    "\n",
    "    return position_dict_with_carry\n",
    "\n",
    "# Calcualtes single position function with a combined forecast\n",
    "def calculate_position_with_multiple_carry_forecast_applied(\n",
    "    average_position: pd.Series,\n",
    "    stdev_ann_perc: standardDeviation,\n",
    "    carry_price: pd.DataFrame,\n",
    "    carry_spans: list,\n",
    ") -> pd.Series:\n",
    "\n",
    "    forecast = calculate_combined_carry_forecast(\n",
    "        stdev_ann_perc=stdev_ann_perc,\n",
    "        carry_price=carry_price,\n",
    "        carry_spans=carry_spans,\n",
    "    )\n",
    "\n",
    "    return forecast * average_position / 10\n",
    "\n",
    "\n",
    "def calculate_combined_carry_forecast(\n",
    "    stdev_ann_perc: standardDeviation,\n",
    "    carry_price: pd.DataFrame,\n",
    "    carry_spans: list,\n",
    ") -> pd.Series:\n",
    "\n",
    "    all_forecasts_as_list = [\n",
    "        calculate_forecast_for_carry(\n",
    "            stdev_ann_perc=stdev_ann_perc,\n",
    "            carry_price=carry_price,\n",
    "            span=span,\n",
    "        )\n",
    "        for span in carry_spans\n",
    "    ]\n",
    "\n",
    "    ### NOTE: This assumes we are equally weighted across spans\n",
    "    ### eg all forecast weights the same, equally weighted\n",
    "    all_forecasts_as_df = pd.concat(all_forecasts_as_list, axis=1)\n",
    "    average_forecast = all_forecasts_as_df.mean(axis=1)\n",
    "\n",
    "    ## apply an FDM\n",
    "    rule_count = len(carry_spans)\n",
    "    FDM_DICT = {1: 1.0, 2: 1.02, 3: 1.03, 4: 1.04}\n",
    "    fdm = FDM_DICT[rule_count]\n",
    "\n",
    "    scaled_forecast = average_forecast * fdm\n",
    "    capped_forecast = scaled_forecast.clip(-20, 20)\n",
    "\n",
    "    return capped_forecast\n",
    "\n",
    "# Scale so the scaled forecast has an absolute value of 10\n",
    "# Finally, cap our forecast\n",
    "def calculate_forecast_for_carry(\n",
    "    stdev_ann_perc: standardDeviation, carry_price: pd.DataFrame, span: int\n",
    "):\n",
    "\n",
    "    smooth_carry = calculate_smoothed_carry(\n",
    "        stdev_ann_perc=stdev_ann_perc, carry_price=carry_price, span=span\n",
    "    )\n",
    "    scaled_carry = smooth_carry * 30\n",
    "    capped_carry = scaled_carry.clip(-20, 20)\n",
    "\n",
    "    return capped_carry\n",
    "\n",
    "\n",
    "# Calculates smoothed carry for each span\n",
    "# If we take the average carry over a long enough period, it will smooth our any seasonal effects\n",
    "def calculate_smoothed_carry(\n",
    "    stdev_ann_perc: standardDeviation, carry_price: pd.DataFrame, span: int\n",
    "):\n",
    "\n",
    "    risk_adj_carry = calculate_vol_adjusted_carry(\n",
    "        stdev_ann_perc=stdev_ann_perc, carry_price=carry_price\n",
    "    )\n",
    "\n",
    "    smooth_carry = risk_adj_carry.ewm(span).mean()\n",
    "\n",
    "    return smooth_carry\n",
    "\n",
    "\n",
    "# Returns risk adjusted price by computing annualized carry and dividing it by the annual price volatility (standard deviation)\n",
    "def calculate_vol_adjusted_carry(\n",
    "    stdev_ann_perc: standardDeviation, carry_price: pd.DataFrame\n",
    ") -> pd.Series:\n",
    "    \n",
    "    # Returns annualized carry\n",
    "    ann_carry = calculate_annualised_carry(carry_price)\n",
    "    # Returns annual standard deviation of returns \n",
    "    ann_price_vol = stdev_ann_perc.annual_risk_price_terms()\n",
    "\n",
    "    # gets risk adjusted carry\n",
    "    risk_adj_carry = ann_carry.ffill() / ann_price_vol.ffill()\n",
    "    # Carry = Annualized raw carry / (Stdev x 16)\n",
    "\n",
    "    return risk_adj_carry\n",
    "\n",
    "# Returns annualized carry by getting raw carry and dividing by difference in contracts \n",
    "def calculate_annualised_carry(\n",
    "    carry_price: pd.DataFrame,\n",
    "):\n",
    "\n",
    "    ## Will be reversed if price_contract > carry_contract\n",
    "    # Raw carry = Price of nearer futures contract - price of currently held contract \n",
    "    raw_carry = carry_price.PRICE - carry_price.CARRY\n",
    "    # Calculates the difference of time between expiries as a fraction of a year\n",
    "    # Absolute value of difference between contracts divided by 12\n",
    "    contract_diff = _total_year_frac_from_contract_series(\n",
    "        carry_price.CARRY_CONTRACT\n",
    "    ) - _total_year_frac_from_contract_series(carry_price.PRICE_CONTRACT)\n",
    "    \n",
    "    # Example \n",
    "    # total_year_frac_from_contract_series(19830300) - total_year_from_contract_series(19821200)\n",
    "    # 1983.25 - 1983 = 0.25\n",
    "\n",
    "    # Annualized the raw carry\n",
    "    ann_carry = raw_carry / contract_diff\n",
    "    \n",
    "    return ann_carry\n",
    "\n",
    "# Takes the input x and divides it by 10,000 using floor d\n",
    "def _total_year_frac_from_contract_series(x):\n",
    "    years = _year_from_contract_series(x)\n",
    "    month_frac = _month_as_year_frac_from_contract_series(x)\n",
    "\n",
    "    return years + month_frac\n",
    "\n",
    "# _total_year_frac_from_contract_series(19830300)\n",
    "# years = 1983\n",
    "# month = 0.25\n",
    "# return 1983.25\n",
    "\n",
    "# _total_year_frac_from_contract_series(19821200)\n",
    "# years = 1982\n",
    "# month_frac = 0.1\n",
    "# return 1983\n",
    "\n",
    "# Takes the input x and divides it by 10,000 using floor division\n",
    "# For example, _year_from_contract_series(20231107), would return 2023\n",
    "def _year_from_contract_series(x):\n",
    "    return x.floordiv(10000)\n",
    "# _year_from_contract_series(19830300) = 1983\n",
    "# _year_from_contract_series(19821200) = 1982\n",
    "\n",
    "# This function is intended to calculate the month as a fraction of a year\n",
    "# First extracts the month component from the contract series then divides by \n",
    "# 12 to express as a fraction of a year\n",
    "def _month_as_year_frac_from_contract_series(x):\n",
    "    return _month_from_contract_series(x) / 12.0\n",
    "# _month_as_year_frac_from_contract_series(19830300) = 3/12 = 0.25\n",
    "# _month_as_year_frac_from_contract_series(19821200) = 12/12 = 1\n",
    "\n",
    "# Intended to extract the month component from identifier, x. It does so by using \n",
    "# modulo and division. \n",
    "# Takes the input 'x' and calculates the remainder when divided by 10,000. It effectively extracts \n",
    "# the last four digits of 'x' which are assumed to represent the month and day information\n",
    "# The function then divides this result by 100 to convert the month from a 4-digit representation \n",
    "# to a fractional value\n",
    "# Example, if the last 4 digits are 0603, dividing by 100 results in 6.03, representting the month and day \n",
    "# as a fractional value \n",
    "# We are dealing with 12, 03, 06, 09 so we don't have to worry about days really\n",
    "def _month_from_contract_series(x):\n",
    "    return x.mod(10000) / 100.0\n",
    "# _month_from_contract_series(19830300) = 0300 / 100 = 3\n",
    "# _month_from_contract_series(19821200) = 1200 / 100 = 12"
   ]
  },
  {
   "cell_type": "code",
   "execution_count": 36,
   "id": "37227e07-589e-4d6d-8d86-f5ae47eba646",
   "metadata": {
    "tags": []
   },
   "outputs": [],
   "source": [
    "carry_spans = [5, 20, 60, 120]"
   ]
  },
  {
   "cell_type": "code",
   "execution_count": 37,
   "id": "ee2526d3-5c43-47f4-bc05-1bceb0b9880c",
   "metadata": {
    "tags": []
   },
   "outputs": [],
   "source": [
    "    (\n",
    "        adjusted_prices_dict,\n",
    "        current_prices_dict,\n",
    "        carry_prices_dict,\n",
    "    ) = get_data_dict_with_carry()\n",
    "\n",
    "\n",
    "    # Algorithm that gives Dictionary for multipliers that automatically\n",
    "    multipliers = dict(sp500=5, gas=10000)\n",
    "    risk_target_tau = 0.2\n",
    "    fx_series_dict = create_fx_series_given_adjusted_prices_dict(adjusted_prices_dict)\n",
    "\n",
    "    capital = 500000\n",
    "    \n",
    "    # Idm will depend on how many instruments we use. This is hardcoded for now\n",
    "    idm = 1.5\n",
    "    # 3.5 for idm \n",
    "    # Should get a SR similar to Carver\n",
    "    # Replicate \n",
    "    # Add it to each asset \n",
    "    \n",
    "    # We will use dynamic optimization for this \n",
    "    instrument_weights = dict(sp500=0.5, gas=0.5)\n",
    "    # Just put a dollar for now\n",
    "    cost_per_contract_dict = dict(sp500=0.875, gas=15.3)\n",
    "\n",
    "    std_dev_dict = calculate_variable_standard_deviation_for_risk_targeting_from_dict(\n",
    "        adjusted_prices=adjusted_prices_dict, current_prices=current_prices_dict\n",
    "    )\n",
    "    \n",
    "    average_position_contracts_dict = (\n",
    "        calculate_position_series_given_variable_risk_for_dict(\n",
    "            capital=capital,\n",
    "            risk_target_tau=risk_target_tau,\n",
    "            idm=idm,\n",
    "            weights=instrument_weights,\n",
    "            std_dev_dict=std_dev_dict,\n",
    "            fx_series_dict=fx_series_dict,\n",
    "            multipliers=multipliers,\n",
    "        )\n",
    "    )\n",
    "        "
   ]
  },
  {
   "cell_type": "markdown",
   "id": "79bb6b62-dae6-4306-a4d5-21509ba7c228",
   "metadata": {},
   "source": [
    "##### This code established risk targets, capital, and other hardcoded numbers as well as bringing in historical data"
   ]
  },
  {
   "cell_type": "code",
   "execution_count": 38,
   "id": "ddf7f2df-064d-49c4-ba42-85f8ec98c211",
   "metadata": {
    "tags": []
   },
   "outputs": [
    {
     "name": "stderr",
     "output_type": "stream",
     "text": [
      "/Users/stefanmostovych/Documents/General/University of Florida/AlgoGators/Python/All/chapter8.py:85: FutureWarning: Series.__getitem__ treating keys as positions is deprecated. In a future version, integer keys will always be treated as labels (consistent with DataFrame behavior). To access a value by position, use `ser.iloc[pos]`\n",
      "  current_position = use_optimal_position[0]\n",
      "/Users/stefanmostovych/Documents/General/University of Florida/AlgoGators/Python/All/chapter8.py:94: FutureWarning: Series.__getitem__ treating keys as positions is deprecated. In a future version, integer keys will always be treated as labels (consistent with DataFrame behavior). To access a value by position, use `ser.iloc[pos]`\n",
      "  top_pos=upper_buffer[idx],\n",
      "/Users/stefanmostovych/Documents/General/University of Florida/AlgoGators/Python/All/chapter8.py:95: FutureWarning: Series.__getitem__ treating keys as positions is deprecated. In a future version, integer keys will always be treated as labels (consistent with DataFrame behavior). To access a value by position, use `ser.iloc[pos]`\n",
      "  bot_pos=lower_buffer[idx],\n",
      "/Users/stefanmostovych/Documents/General/University of Florida/AlgoGators/Python/All/chapter5.py:177: FutureWarning: Series.__getitem__ treating keys as positions is deprecated. In a future version, integer keys will always be treated as labels (consistent with DataFrame behavior). To access a value by position, use `ser.iloc[pos]`\n",
      "  final_stdev = stdev_daily_price[-1]\n"
     ]
    }
   ],
   "source": [
    "    \n",
    "    position_contracts_dict = (\n",
    "        calculate_position_dict_with_multiple_carry_forecast_applied(\n",
    "            adjusted_prices_dict=adjusted_prices_dict,\n",
    "            carry_prices_dict=carry_prices_dict,\n",
    "            std_dev_dict=std_dev_dict,\n",
    "            average_position_contracts_dict=average_position_contracts_dict,\n",
    "            carry_spans=carry_spans,\n",
    "        )\n",
    "    )\n",
    "\n",
    "    buffered_position_dict = apply_buffering_to_position_dict(\n",
    "        position_contracts_dict=position_contracts_dict,\n",
    "        average_position_contracts_dict=average_position_contracts_dict,\n",
    "    )\n",
    "\n",
    "    perc_return_dict = calculate_perc_returns_for_dict_with_costs(\n",
    "        position_contracts_dict=buffered_position_dict,\n",
    "        fx_series=fx_series_dict,\n",
    "        multipliers=multipliers,\n",
    "        capital=capital,\n",
    "        adjusted_prices=adjusted_prices_dict,\n",
    "        cost_per_contract_dict=cost_per_contract_dict,\n",
    "        std_dev_dict=std_dev_dict,\n",
    "    )\n"
   ]
  },
  {
   "cell_type": "code",
   "execution_count": 39,
   "id": "806ed252-f3a3-4b27-838c-5a0c59ce8e8d",
   "metadata": {
    "tags": []
   },
   "outputs": [
    {
     "name": "stdout",
     "output_type": "stream",
     "text": [
      "{'ann_mean': -0.013487680302810308, 'ann_std': 0.09475602254102886, 'sharpe_ratio': -0.1423411403425066, 'skew': 1.4892343758962205, 'avg_drawdown': 0.833165961377379, 'max_drawdown': 1.4058131342124087, 'quant_ratio_lower': 3.4512856631076607, 'quant_ratio_upper': 3.4512856631076607}\n"
     ]
    }
   ],
   "source": [
    "print(calculate_stats(perc_return_dict[\"sp500\"]))"
   ]
  },
  {
   "cell_type": "code",
   "execution_count": 40,
   "id": "bf1bfe4c-d7c4-45df-8746-f766e1b97ff9",
   "metadata": {
    "tags": []
   },
   "outputs": [
    {
     "name": "stdout",
     "output_type": "stream",
     "text": [
      "{'ann_mean': 0.07186569691670172, 'ann_std': 0.23484831089910724, 'sharpe_ratio': 0.3060090006249856, 'skew': -0.18202106464427353, 'avg_drawdown': 0.3777125732811205, 'max_drawdown': 1.3498850801200195, 'quant_ratio_lower': 1.5716220385129391, 'quant_ratio_upper': 1.5716220385129391}\n"
     ]
    }
   ],
   "source": [
    "print(calculate_stats(perc_return_dict[\"gas\"]))"
   ]
  },
  {
   "cell_type": "code",
   "execution_count": 41,
   "id": "b22674c7-f13f-492c-a6e5-5a951b37fefd",
   "metadata": {
    "tags": []
   },
   "outputs": [
    {
     "data": {
      "text/html": [
       "<div>\n",
       "<style scoped>\n",
       "    .dataframe tbody tr th:only-of-type {\n",
       "        vertical-align: middle;\n",
       "    }\n",
       "\n",
       "    .dataframe tbody tr th {\n",
       "        vertical-align: top;\n",
       "    }\n",
       "\n",
       "    .dataframe thead th {\n",
       "        text-align: right;\n",
       "    }\n",
       "</style>\n",
       "<table border=\"1\" class=\"dataframe\">\n",
       "  <thead>\n",
       "    <tr style=\"text-align: right;\">\n",
       "      <th></th>\n",
       "      <th>sp500</th>\n",
       "      <th>gas</th>\n",
       "    </tr>\n",
       "  </thead>\n",
       "  <tbody>\n",
       "    <tr>\n",
       "      <th>1990-07-30</th>\n",
       "      <td>-310.940340</td>\n",
       "      <td>-82.590167</td>\n",
       "    </tr>\n",
       "    <tr>\n",
       "      <th>1990-07-31</th>\n",
       "      <td>-317.705377</td>\n",
       "      <td>-67.499346</td>\n",
       "    </tr>\n",
       "    <tr>\n",
       "      <th>1990-08-01</th>\n",
       "      <td>-325.902060</td>\n",
       "      <td>-78.210789</td>\n",
       "    </tr>\n",
       "    <tr>\n",
       "      <th>1990-08-02</th>\n",
       "      <td>-329.027721</td>\n",
       "      <td>-45.198364</td>\n",
       "    </tr>\n",
       "    <tr>\n",
       "      <th>1990-08-03</th>\n",
       "      <td>-311.389501</td>\n",
       "      <td>-25.922002</td>\n",
       "    </tr>\n",
       "  </tbody>\n",
       "</table>\n",
       "</div>"
      ],
      "text/plain": [
       "                 sp500        gas\n",
       "1990-07-30 -310.940340 -82.590167\n",
       "1990-07-31 -317.705377 -67.499346\n",
       "1990-08-01 -325.902060 -78.210789\n",
       "1990-08-02 -329.027721 -45.198364\n",
       "1990-08-03 -311.389501 -25.922002"
      ]
     },
     "execution_count": 41,
     "metadata": {},
     "output_type": "execute_result"
    }
   ],
   "source": [
    "position_contracts_df = pd.DataFrame.from_dict(position_contracts_dict) \n",
    "position_contracts_df.dropna(inplace=True)\n",
    "position_contracts_df.head()"
   ]
  },
  {
   "cell_type": "code",
   "execution_count": 42,
   "id": "7899abc9-e7a6-449e-9bb0-41037437e83f",
   "metadata": {
    "tags": []
   },
   "outputs": [
    {
     "data": {
      "text/html": [
       "<div>\n",
       "<style scoped>\n",
       "    .dataframe tbody tr th:only-of-type {\n",
       "        vertical-align: middle;\n",
       "    }\n",
       "\n",
       "    .dataframe tbody tr th {\n",
       "        vertical-align: top;\n",
       "    }\n",
       "\n",
       "    .dataframe thead th {\n",
       "        text-align: right;\n",
       "    }\n",
       "</style>\n",
       "<table border=\"1\" class=\"dataframe\">\n",
       "  <thead>\n",
       "    <tr style=\"text-align: right;\">\n",
       "      <th></th>\n",
       "      <th>sp500</th>\n",
       "      <th>gas</th>\n",
       "    </tr>\n",
       "  </thead>\n",
       "  <tbody>\n",
       "    <tr>\n",
       "      <th>1990-07-30</th>\n",
       "      <td>-0.007838</td>\n",
       "      <td>-0.000095</td>\n",
       "    </tr>\n",
       "    <tr>\n",
       "      <th>1990-07-31</th>\n",
       "      <td>-0.000998</td>\n",
       "      <td>0.026510</td>\n",
       "    </tr>\n",
       "    <tr>\n",
       "      <th>1990-08-01</th>\n",
       "      <td>0.003323</td>\n",
       "      <td>0.012776</td>\n",
       "    </tr>\n",
       "    <tr>\n",
       "      <th>1990-08-02</th>\n",
       "      <td>0.010543</td>\n",
       "      <td>-0.056300</td>\n",
       "    </tr>\n",
       "    <tr>\n",
       "      <th>1990-08-03</th>\n",
       "      <td>0.021750</td>\n",
       "      <td>-0.079978</td>\n",
       "    </tr>\n",
       "    <tr>\n",
       "      <th>1990-08-06</th>\n",
       "      <td>0.036749</td>\n",
       "      <td>-0.048619</td>\n",
       "    </tr>\n",
       "    <tr>\n",
       "      <th>1990-08-07</th>\n",
       "      <td>-0.008149</td>\n",
       "      <td>0.045970</td>\n",
       "    </tr>\n",
       "    <tr>\n",
       "      <th>1990-08-08</th>\n",
       "      <td>-0.006721</td>\n",
       "      <td>0.014400</td>\n",
       "    </tr>\n",
       "    <tr>\n",
       "      <th>1990-08-10</th>\n",
       "      <td>0.011603</td>\n",
       "      <td>-0.010800</td>\n",
       "    </tr>\n",
       "    <tr>\n",
       "      <th>1990-08-14</th>\n",
       "      <td>-0.002688</td>\n",
       "      <td>0.007200</td>\n",
       "    </tr>\n",
       "  </tbody>\n",
       "</table>\n",
       "</div>"
      ],
      "text/plain": [
       "               sp500       gas\n",
       "1990-07-30 -0.007838 -0.000095\n",
       "1990-07-31 -0.000998  0.026510\n",
       "1990-08-01  0.003323  0.012776\n",
       "1990-08-02  0.010543 -0.056300\n",
       "1990-08-03  0.021750 -0.079978\n",
       "1990-08-06  0.036749 -0.048619\n",
       "1990-08-07 -0.008149  0.045970\n",
       "1990-08-08 -0.006721  0.014400\n",
       "1990-08-10  0.011603 -0.010800\n",
       "1990-08-14 -0.002688  0.007200"
      ]
     },
     "execution_count": 42,
     "metadata": {},
     "output_type": "execute_result"
    }
   ],
   "source": [
    "perc_return_df = pd.DataFrame.from_dict(perc_return_dict)\n",
    "perc_return_df.dropna(inplace=True)\n",
    "perc_return_df.head(10)"
   ]
  },
  {
   "cell_type": "markdown",
   "id": "99c72fca-1cfb-49f6-a2e1-331c9dfc1c0e",
   "metadata": {},
   "source": [
    "### Plotting Histograms of Returns\n",
    "##### Plotting the histogram of returns for sp500 and gas"
   ]
  },
  {
   "cell_type": "code",
   "execution_count": 43,
   "id": "4c19c51a-5688-41e2-a446-538d6a19fe85",
   "metadata": {
    "tags": []
   },
   "outputs": [],
   "source": [
    "# Plotting percentage returns of the SP500 and Gas futures\n",
    "plt.figure(1)\n",
    "plt.hist(perc_return_df[\"sp500\"],bins=500)\n",
    "plt.title(\"SP500 Returns\")\n",
    "plt.xlabel(\"Date\")\n",
    "plt.ylabel(\"Percentage Return\")\n",
    "plt.figure(2)\n",
    "plt.hist(perc_return_df[\"gas\"], bins=500)\n",
    "plt.title(\"Gas Returns\")\n",
    "plt.xlabel(\"Date\")\n",
    "plt.ylabel(\"Percentage Return\")\n",
    "\n",
    "plt.show()"
   ]
  }
 ],
 "metadata": {
  "kernelspec": {
   "display_name": "Python 3 (ipykernel)",
   "language": "python",
   "name": "python3"
  },
  "language_info": {
   "codemirror_mode": {
    "name": "ipython",
    "version": 3
   },
   "file_extension": ".py",
   "mimetype": "text/x-python",
   "name": "python",
   "nbconvert_exporter": "python",
   "pygments_lexer": "ipython3",
   "version": "3.11.5"
  }
 },
 "nbformat": 4,
 "nbformat_minor": 5
}
