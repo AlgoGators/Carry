{
 "cells": [
  {
   "cell_type": "code",
   "execution_count": null,
   "id": "4e5f9807-f231-4654-a091-6266c6b437ff",
   "metadata": {},
   "outputs": [],
   "source": []
  },
  {
   "cell_type": "code",
   "execution_count": 88,
   "id": "b699f0ae-c442-4089-b3b6-d70b655f9bda",
   "metadata": {
    "tags": []
   },
   "outputs": [
    {
     "data": {
      "text/plain": [
       "'/Users/stefanmostovych/Documents/General/University of Florida/AlgoGators/Python/All'"
      ]
     },
     "execution_count": 88,
     "metadata": {},
     "output_type": "execute_result"
    }
   ],
   "source": [
    "import os\n",
    "os.getcwd()"
   ]
  },
  {
   "cell_type": "code",
   "execution_count": 63,
   "id": "55681a15-3a16-4bf3-8ea3-288ec2b1929d",
   "metadata": {
    "tags": []
   },
   "outputs": [],
   "source": [
    "# Import functions from other chapters\n",
    "import matplotlib\n",
    "import sys\n",
    "\n",
    "matplotlib.use(\"TkAgg\")\n",
    "\n",
    "import pandas as pd\n",
    "from chapter1 import calculate_stats\n",
    "from chapter1 import pd_readcsv, BUSINESS_DAYS_IN_YEAR\n",
    "from chapter3 import standardDeviation\n",
    "from chapter4 import (\n",
    "    create_fx_series_given_adjusted_prices_dict,\n",
    "    calculate_variable_standard_deviation_for_risk_targeting_from_dict,\n",
    "    calculate_position_series_given_variable_risk_for_dict,\n",
    ")\n",
    "\n",
    "from chapter5 import calculate_perc_returns_for_dict_with_costs\n",
    "from chapter8 import apply_buffering_to_position_dict\n",
    "from chapter10 import calculate_position_dict_with_multiple_carry_forecast_applied, calculate_position_with_multiple_carry_forecast_applied,calculate_combined_carry_forecast, calculate_forecast_for_carry, calculate_smoothed_carry, calculate_vol_adjusted_carry, calculate_annualised_carry, _total_year_frac_from_contract_series, _year_from_contract_series, _month_as_year_frac_from_contract_series, _month_from_contract_series    "
   ]
  },
  {
   "cell_type": "code",
   "execution_count": 86,
   "id": "ceaab210-b398-4f4f-96e7-52a77f7775eb",
   "metadata": {
    "tags": []
   },
   "outputs": [
    {
     "ename": "ImportError",
     "evalue": "cannot import name 'getMultiplierDict' from 'Multipliers' (/Users/stefanmostovych/Documents/General/University of Florida/AlgoGators/Python/All/Multipliers.py)",
     "output_type": "error",
     "traceback": [
      "\u001b[0;31m---------------------------------------------------------------------------\u001b[0m",
      "\u001b[0;31mImportError\u001b[0m                               Traceback (most recent call last)",
      "Cell \u001b[0;32mIn[86], line 1\u001b[0m\n\u001b[0;32m----> 1\u001b[0m \u001b[38;5;28;01mfrom\u001b[39;00m \u001b[38;5;21;01mMultipliers\u001b[39;00m \u001b[38;5;28;01mimport\u001b[39;00m getMultiplierDict\n",
      "\u001b[0;31mImportError\u001b[0m: cannot import name 'getMultiplierDict' from 'Multipliers' (/Users/stefanmostovych/Documents/General/University of Florida/AlgoGators/Python/All/Multipliers.py)"
     ]
    }
   ],
   "source": [
    "from Multipliers import getMultiplierDict"
   ]
  },
  {
   "cell_type": "code",
   "execution_count": 72,
   "id": "3a7e1a4a-a91d-439c-9632-5fa62436e60e",
   "metadata": {
    "tags": []
   },
   "outputs": [],
   "source": [
    "## Get underlying price, adjusted price, and carry price\n",
    "def get_data_dict_with_carry(instrument_list: list = None):\n",
    "    \n",
    "    if instrument_list is None:\n",
    "        instrument_list = INSTRUMENT_LIST\n",
    "\n",
    "    all_data = dict(\n",
    "        [\n",
    "            (instrument_code, pd_readcsv(\"%s.csv\" % instrument_code))\n",
    "            for instrument_code in instrument_list\n",
    "        ]\n",
    "    )\n",
    "\n",
    "    adjusted_prices = dict(\n",
    "        [\n",
    "            (instrument_code, data_for_instrument.adjusted)\n",
    "            for instrument_code, data_for_instrument in all_data.items()\n",
    "        ]\n",
    "    )\n",
    "\n",
    "    current_prices = dict(\n",
    "        [\n",
    "            (instrument_code, data_for_instrument.underlying)\n",
    "            for instrument_code, data_for_instrument in all_data.items()\n",
    "        ]\n",
    "    )\n",
    "\n",
    "    carry_data = dict(\n",
    "        [\n",
    "            (instrument_code, pd_readcsv(\"%s_carry.csv\" % instrument_code))\n",
    "            for instrument_code in instrument_list\n",
    "        ]\n",
    "    )\n",
    "\n",
    "\n",
    "    return adjusted_prices, current_prices, carry_data"
   ]
  },
  {
   "cell_type": "code",
   "execution_count": 67,
   "id": "cfee7dfb-e6c0-4806-a05e-9b956d6ef15f",
   "metadata": {
    "tags": []
   },
   "outputs": [],
   "source": [
    "def calc_idm(instrument_list: list) -> float:\n",
    "\n",
    "    # if the lenght of the instrument list lands in a certain bracket, return a certain value\n",
    "    # this is not a true idm, but a rough approx.\n",
    "    # TRUE IDM = 1 / sqrt(w.rho.wT)\n",
    "    n = len(instrument_list)\n",
    "\n",
    "    if n == 1:\n",
    "        return 1.0\n",
    "    elif n == 2:\n",
    "        return 1.20\n",
    "    elif n == 3:\n",
    "        return 1.48\n",
    "    elif n == 4:\n",
    "        return 1.56\n",
    "    elif n == 5:\n",
    "        return 1.70\n",
    "    elif n == 6:\n",
    "        return 1.90\n",
    "    elif n == 7:\n",
    "        return 2.10\n",
    "    elif n >= 8 and n <= 14:\n",
    "        return 2.20\n",
    "    elif n >= 15 and n <= 24:\n",
    "        return 2.30\n",
    "    elif n >= 25 and n <= 30:\n",
    "        return 2.40\n",
    "    elif n > 30:\n",
    "        return 2.50\n",
    "\n",
    "    # if we reached here, something went wrong\n",
    "    raise ValueError(\"Instrument Diversity Multiplier not found\")        "
   ]
  },
  {
   "cell_type": "code",
   "execution_count": 82,
   "id": "9b995dc7-27a7-4de3-b961-e714b4e0af0e",
   "metadata": {
    "tags": []
   },
   "outputs": [],
   "source": [
    "def carry_forecast(capital: int, risk_target_tau: float, weights: dict, multipliers: dict, instr_list: list, carry_spans: list) -> tuple[dict, dict]:\n",
    "   \n",
    "    adjusted_prices_dict, current_prices_dict, carry_prices_dict = get_data_dict_with_carry(instr_list)\n",
    "\n",
    "    fx_series_dict = create_fx_series_given_adjusted_prices_dict(adjusted_prices_dict)\n",
    "\n",
    "    \n",
    "    idm = calc_idm(instr_list)\n",
    "    \n",
    "    instrument_weights = weights\n",
    "    \n",
    "    cost_per_contract_dict = dict(sp500=0.875, gas=15.3)\n",
    "\n",
    "    std_dev_dict = calculate_variable_standard_deviation_for_risk_targeting_from_dict(\n",
    "        adjusted_prices=adjusted_prices_dict, current_prices=current_prices_dict\n",
    "    )\n",
    "\n",
    "    average_position_contracts_dict = (\n",
    "        calculate_position_series_given_variable_risk_for_dict(\n",
    "            capital=capital,\n",
    "            risk_target_tau=risk_target_tau,\n",
    "            idm=idm,\n",
    "            weights=instrument_weights,\n",
    "            std_dev_dict=std_dev_dict,\n",
    "            fx_series_dict=fx_series_dict,\n",
    "            multipliers=multipliers,\n",
    "        )\n",
    "    )\n",
    "\n",
    "    # Use 4 arbitrary spans here [5,20,60,120] for both instruments \n",
    "    # but in reality we would need to check for costs f\n",
    "    \n",
    "    position_contracts_dict = (\n",
    "        calculate_position_dict_with_multiple_carry_forecast_applied(\n",
    "            adjusted_prices_dict=adjusted_prices_dict,\n",
    "            carry_prices_dict=carry_prices_dict,\n",
    "            std_dev_dict=std_dev_dict,\n",
    "            average_position_contracts_dict=average_position_contracts_dict,\n",
    "            carry_spans=carry_spans,\n",
    "        )\n",
    "    )\n",
    "\n",
    "    buffered_position_dict = apply_buffering_to_position_dict(\n",
    "        position_contracts_dict=position_contracts_dict,\n",
    "        average_position_contracts_dict=average_position_contracts_dict,\n",
    "    )\n",
    "\n",
    "    perc_return_dict = calculate_perc_returns_for_dict_with_costs(\n",
    "        position_contracts_dict=buffered_position_dict,\n",
    "        fx_series=fx_series_dict,\n",
    "        multipliers=multipliers,\n",
    "        capital=capital,\n",
    "        adjusted_prices=adjusted_prices_dict,\n",
    "        cost_per_contract_dict=cost_per_contract_dict,\n",
    "        std_dev_dict=std_dev_dict,\n",
    "    )\n",
    "    \n",
    "    return perc_return_dict, buffered_position_dict"
   ]
  },
  {
   "cell_type": "code",
   "execution_count": 85,
   "id": "95a1462a-5c1e-48f9-8b1e-aca29aeaa71a",
   "metadata": {
    "tags": []
   },
   "outputs": [
    {
     "name": "stdout",
     "output_type": "stream",
     "text": [
      "{'ann_mean': -0.010361436675595085, 'ann_std': 0.0758161649229948, 'sharpe_ratio': -0.1366652703433235, 'skew': 1.4761847600967632, 'avg_drawdown': 0.665367227058232, 'max_drawdown': 1.1247514842940411, 'quant_ratio_lower': 3.436065511179116, 'quant_ratio_upper': 3.436065511179116}\n"
     ]
    },
    {
     "name": "stderr",
     "output_type": "stream",
     "text": [
      "/Users/stefanmostovych/Documents/General/University of Florida/AlgoGators/Python/All/chapter8.py:85: FutureWarning: Series.__getitem__ treating keys as positions is deprecated. In a future version, integer keys will always be treated as labels (consistent with DataFrame behavior). To access a value by position, use `ser.iloc[pos]`\n",
      "  current_position = use_optimal_position[0]\n",
      "/Users/stefanmostovych/Documents/General/University of Florida/AlgoGators/Python/All/chapter8.py:94: FutureWarning: Series.__getitem__ treating keys as positions is deprecated. In a future version, integer keys will always be treated as labels (consistent with DataFrame behavior). To access a value by position, use `ser.iloc[pos]`\n",
      "  top_pos=upper_buffer[idx],\n",
      "/Users/stefanmostovych/Documents/General/University of Florida/AlgoGators/Python/All/chapter8.py:95: FutureWarning: Series.__getitem__ treating keys as positions is deprecated. In a future version, integer keys will always be treated as labels (consistent with DataFrame behavior). To access a value by position, use `ser.iloc[pos]`\n",
      "  bot_pos=lower_buffer[idx],\n",
      "/Users/stefanmostovych/Documents/General/University of Florida/AlgoGators/Python/All/chapter5.py:177: FutureWarning: Series.__getitem__ treating keys as positions is deprecated. In a future version, integer keys will always be treated as labels (consistent with DataFrame behavior). To access a value by position, use `ser.iloc[pos]`\n",
      "  final_stdev = stdev_daily_price[-1]\n"
     ]
    }
   ],
   "source": [
    "            \n",
    "# List of all instruments in the portfolio\n",
    "INSTRUMENT_LIST = ['sp500', 'gas']\n",
    "\n",
    "even_weights = 1 / len(INSTRUMENT_LIST)\n",
    "\n",
    "weights = dict(sp500=even_weights, gas=even_weights)\n",
    "# dict of equal weight for each instrument in the list\n",
    "weights = {instrument: even_weights for instrument in INSTRUMENT_LIST}\n",
    "\n",
    "## Having trouble import getMultiplierDict()\n",
    "multipliers = dict(sp500=5, gas=10000)\n",
    "##multipliers = getMultiplierDict()\n",
    "risk_target_tau = 0.2\n",
    "\n",
    "capital: int = 500000\n",
    "\n",
    "\n",
    "perc, fc = carry_forecast(capital, risk_target_tau, weights, multipliers, INSTRUMENT_LIST, [5, 20, 60, 120])\n",
    "\n",
    "df = pd.DataFrame.from_dict(fc)\n",
    "\n",
    "print(calculate_stats(perc['sp500']))\n",
    "\n",
    "df.to_csv(\"out.csv\")"
   ]
  },
  {
   "cell_type": "code",
   "execution_count": null,
   "id": "a094b147-1079-4dd5-b8f6-94b743185b71",
   "metadata": {
    "tags": []
   },
   "outputs": [],
   "source": []
  }
 ],
 "metadata": {
  "kernelspec": {
   "display_name": "Python 3 (ipykernel)",
   "language": "python",
   "name": "python3"
  },
  "language_info": {
   "codemirror_mode": {
    "name": "ipython",
    "version": 3
   },
   "file_extension": ".py",
   "mimetype": "text/x-python",
   "name": "python",
   "nbconvert_exporter": "python",
   "pygments_lexer": "ipython3",
   "version": "3.11.5"
  }
 },
 "nbformat": 4,
 "nbformat_minor": 5
}
