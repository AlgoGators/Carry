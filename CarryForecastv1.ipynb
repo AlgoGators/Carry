{
 "cells": [
  {
   "cell_type": "code",
   "execution_count": 56,
   "id": "55681a15-3a16-4bf3-8ea3-288ec2b1929d",
   "metadata": {
    "tags": []
   },
   "outputs": [],
   "source": [
    "# Import functions from other chapters\n",
    "import matplotlib\n",
    "\n",
    "matplotlib.use(\"TkAgg\")\n",
    "\n",
    "import pandas as pd\n",
    "from chapter1 import calculate_stats\n",
    "from chapter1 import pd_readcsv, BUSINESS_DAYS_IN_YEAR\n",
    "from chapter3 import standardDeviation\n",
    "from chapter4 import (\n",
    "    create_fx_series_given_adjusted_prices_dict,\n",
    "    calculate_variable_standard_deviation_for_risk_targeting_from_dict,\n",
    "    calculate_position_series_given_variable_risk_for_dict,\n",
    ")\n",
    "\n",
    "from chapter5 import calculate_perc_returns_for_dict_with_costs\n",
    "from chapter8 import apply_buffering_to_position_dict\n",
    "from chapter10 import calculate_position_dict_with_multiple_carry_forecast_applied, calculate_position_with_multiple_carry_forecast_applied,calculate_combined_carry_forecast, calculate_forecast_for_carry, calculate_smoothed_carry, calculate_vol_adjusted_carry, calculate_annualised_carry, _total_year_frac_from_contract_series, _year_from_contract_series, _month_as_year_frac_from_contract_series, _month_from_contract_series    "
   ]
  },
  {
   "cell_type": "code",
   "execution_count": 57,
   "id": "3a7e1a4a-a91d-439c-9632-5fa62436e60e",
   "metadata": {
    "tags": []
   },
   "outputs": [],
   "source": [
    "## Get underlying price, adjusted price, and carry price\n",
    "def get_data_dict_with_carry(instrument_list: list = None):\n",
    "    \n",
    "    if instrument_list is None:\n",
    "        instrument_list = INSTRUMENT_LIST\n",
    "\n",
    "    all_data = dict(\n",
    "        [\n",
    "            (instrument_code, pd_readcsv(\"%s.csv\" % instrument_code))\n",
    "            for instrument_code in instrument_list\n",
    "        ]\n",
    "    )\n",
    "\n",
    "    adjusted_prices = dict(\n",
    "        [\n",
    "            (instrument_code, data_for_instrument.adjusted)\n",
    "            for instrument_code, data_for_instrument in all_data.items()\n",
    "        ]\n",
    "    )\n",
    "\n",
    "    current_prices = dict(\n",
    "        [\n",
    "            (instrument_code, data_for_instrument.underlying)\n",
    "            for instrument_code, data_for_instrument in all_data.items()\n",
    "        ]\n",
    "    )\n",
    "\n",
    "    carry_data = dict(\n",
    "        [\n",
    "            (instrument_code, pd_readcsv(\"%s_carry.csv\" % instrument_code))\n",
    "            for instrument_code in instrument_list\n",
    "        ]\n",
    "    )\n",
    "\n",
    "\n",
    "    return adjusted_prices, current_prices, carry_data"
   ]
  },
  {
   "cell_type": "code",
   "execution_count": 58,
   "id": "9b995dc7-27a7-4de3-b961-e714b4e0af0e",
   "metadata": {
    "tags": []
   },
   "outputs": [],
   "source": [
    "def carry_forecast(capital: int, risk_target_tau: float, multipliers: dict, instr_list: list, fast_spans: list) -> tuple[dict, dict]:\n",
    "   \n",
    "    adjusted_prices_dict, current_prices_dict, carry_prices_dict = get_data_dict_with_carry(instr_list)\n",
    "\n",
    "    fx_series_dict = create_fx_series_given_adjusted_prices_dict(adjusted_prices_dict)\n",
    "\n",
    "    \n",
    "    idm = 1.5\n",
    "    instrument_weights = dict(sp500=0.5, gas=0.5)\n",
    "    cost_per_contract_dict = dict(sp500=0.875, gas=15.3)\n",
    "\n",
    "    std_dev_dict = calculate_variable_standard_deviation_for_risk_targeting_from_dict(\n",
    "        adjusted_prices=adjusted_prices_dict, current_prices=current_prices_dict\n",
    "    )\n",
    "\n",
    "    average_position_contracts_dict = (\n",
    "        calculate_position_series_given_variable_risk_for_dict(\n",
    "            capital=capital,\n",
    "            risk_target_tau=risk_target_tau,\n",
    "            idm=idm,\n",
    "            weights=instrument_weights,\n",
    "            std_dev_dict=std_dev_dict,\n",
    "            fx_series_dict=fx_series_dict,\n",
    "            multipliers=multipliers,\n",
    "        )\n",
    "    )\n",
    "\n",
    "    # Use 4 arbitrary spans here [5,20,60,120] for both instruments \n",
    "    # but in reality we would need to check for costs f\n",
    "    carry_spans = [5, 20, 60, 120]\n",
    "    \n",
    "    position_contracts_dict = (\n",
    "        calculate_position_dict_with_multiple_carry_forecast_applied(\n",
    "            adjusted_prices_dict=adjusted_prices_dict,\n",
    "            carry_prices_dict=carry_prices_dict,\n",
    "            std_dev_dict=std_dev_dict,\n",
    "            average_position_contracts_dict=average_position_contracts_dict,\n",
    "            carry_spans=carry_spans,\n",
    "        )\n",
    "    )\n",
    "\n",
    "    buffered_position_dict = apply_buffering_to_position_dict(\n",
    "        position_contracts_dict=position_contracts_dict,\n",
    "        average_position_contracts_dict=average_position_contracts_dict,\n",
    "    )\n",
    "\n",
    "    perc_return_dict = calculate_perc_returns_for_dict_with_costs(\n",
    "        position_contracts_dict=buffered_position_dict,\n",
    "        fx_series=fx_series_dict,\n",
    "        multipliers=multipliers,\n",
    "        capital=capital,\n",
    "        adjusted_prices=adjusted_prices_dict,\n",
    "        cost_per_contract_dict=cost_per_contract_dict,\n",
    "        std_dev_dict=std_dev_dict,\n",
    "    )\n",
    "    \n",
    "    return perc_return_dict, buffered_position_dict\n",
    "\n"
   ]
  },
  {
   "cell_type": "code",
   "execution_count": 59,
   "id": "469d8059-eb9c-43e4-abe7-8ccb77493a7c",
   "metadata": {
    "tags": []
   },
   "outputs": [],
   "source": [
    "INSTRUMENT_LIST = ['sp500', 'gas']\n",
    "multipliers = dict(sp500=5, gas=10000)\n",
    "risk_target_tau = 0.2\n",
    "capital = 100_000\n"
   ]
  },
  {
   "cell_type": "code",
   "execution_count": 66,
   "id": "8392b328-3e5f-42ea-a581-3958848fdbd4",
   "metadata": {
    "tags": []
   },
   "outputs": [
    {
     "name": "stdout",
     "output_type": "stream",
     "text": [
      "{'ann_mean': -0.013487680302810308, 'ann_std': 0.09475602254102886, 'sharpe_ratio': -0.1423411403425066, 'skew': 1.4892343758962205, 'avg_drawdown': 0.833165961377379, 'max_drawdown': 1.4058131342124087, 'quant_ratio_lower': 3.4512856631076607, 'quant_ratio_upper': 3.4512856631076607}\n"
     ]
    },
    {
     "name": "stderr",
     "output_type": "stream",
     "text": [
      "/Users/stefanmostovych/Documents/General/University of Florida/AlgoGators/Python/All/chapter8.py:85: FutureWarning: Series.__getitem__ treating keys as positions is deprecated. In a future version, integer keys will always be treated as labels (consistent with DataFrame behavior). To access a value by position, use `ser.iloc[pos]`\n",
      "  current_position = use_optimal_position[0]\n",
      "/Users/stefanmostovych/Documents/General/University of Florida/AlgoGators/Python/All/chapter8.py:94: FutureWarning: Series.__getitem__ treating keys as positions is deprecated. In a future version, integer keys will always be treated as labels (consistent with DataFrame behavior). To access a value by position, use `ser.iloc[pos]`\n",
      "  top_pos=upper_buffer[idx],\n",
      "/Users/stefanmostovych/Documents/General/University of Florida/AlgoGators/Python/All/chapter8.py:95: FutureWarning: Series.__getitem__ treating keys as positions is deprecated. In a future version, integer keys will always be treated as labels (consistent with DataFrame behavior). To access a value by position, use `ser.iloc[pos]`\n",
      "  bot_pos=lower_buffer[idx],\n",
      "/Users/stefanmostovych/Documents/General/University of Florida/AlgoGators/Python/All/chapter5.py:177: FutureWarning: Series.__getitem__ treating keys as positions is deprecated. In a future version, integer keys will always be treated as labels (consistent with DataFrame behavior). To access a value by position, use `ser.iloc[pos]`\n",
      "  final_stdev = stdev_daily_price[-1]\n"
     ]
    }
   ],
   "source": [
    "perc, fc = carry_forecast(capital, risk_target_tau, multipliers, INSTRUMENT_LIST, [5, 20, 60, 120])\n",
    "\n",
    "df = pd.DataFrame.from_dict(fc)\n",
    "\n",
    "print(calculate_stats(perc['sp500']))\n",
    "\n",
    "df.to_csv(\"out.csv\")"
   ]
  }
 ],
 "metadata": {
  "kernelspec": {
   "display_name": "Python 3 (ipykernel)",
   "language": "python",
   "name": "python3"
  },
  "language_info": {
   "codemirror_mode": {
    "name": "ipython",
    "version": 3
   },
   "file_extension": ".py",
   "mimetype": "text/x-python",
   "name": "python",
   "nbconvert_exporter": "python",
   "pygments_lexer": "ipython3",
   "version": "3.11.5"
  }
 },
 "nbformat": 4,
 "nbformat_minor": 5
}
